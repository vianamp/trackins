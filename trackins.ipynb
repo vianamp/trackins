{
 "cells": [
  {
   "cell_type": "code",
   "execution_count": null,
   "metadata": {
    "extensions": {
     "jupyter_dashboards": {
      "activeView": "grid_default",
      "views": {
       "grid_default": {
        "col": null,
        "height": 2,
        "hidden": true,
        "row": null,
        "width": 2
       }
      }
     }
    }
   },
   "outputs": [],
   "source": [
    "import json\n",
    "import numpy as np\n",
    "\n",
    "import panel as pn\n",
    "import plotly.graph_objects as go\n",
    "\n",
    "pn.extension('plotly')"
   ]
  },
  {
   "cell_type": "markdown",
   "metadata": {},
   "source": [
    "### About this App\n",
    "\n",
    "The goals of this app are:\n",
    "\n",
    "- Serve as an intermidiate level example of `Panel` package.\n",
    "- Display a few `Panel` - `Plotly` interactions that are useful for data analysis.\n",
    "- Crate a quick way of assessing results of 2D tracking algorithms.\n",
    "\n",
    "### About the data\n",
    "\n",
    "This is the result of a tracking algorithm that tracks centroid of cells in 2D as they move in space. The volume and the contour of the cell shape at each frame is stored in a JSON file. In total we have 6 different tracks with duration of 160 frames."
   ]
  },
  {
   "cell_type": "code",
   "execution_count": null,
   "metadata": {
    "extensions": {
     "jupyter_dashboards": {
      "activeView": "grid_default",
      "views": {
       "grid_default": {
        "col": null,
        "height": 2,
        "hidden": true,
        "row": null,
        "width": 2
       }
      }
     }
    }
   },
   "outputs": [],
   "source": [
    "# Read data\n",
    "with open('tracks.json', 'r') as fj:\n",
    "    full_data = json.load(fj)\n",
    "data = full_data['data']\n",
    "limits = full_data['limits']"
   ]
  },
  {
   "cell_type": "code",
   "execution_count": null,
   "metadata": {},
   "outputs": [],
   "source": [
    "# Widgets\n",
    "wg_ntracks = pn.widgets.IntSlider(\n",
    "    name='Number of tracks',\n",
    "    value=len(data),\n",
    "    start=1,\n",
    "    end=len(data)\n",
    ")\n",
    "wg_frames_interval = pn.widgets.RangeSlider(\n",
    "    name='Frames',\n",
    "    start=limits['Fmin'],\n",
    "    end=limits['Fmax'],\n",
    "    value=(limits['Fmin'], limits['Fmin']+10),\n",
    "    step=1\n",
    ")\n",
    "wg_curr_track = pn.widgets.TextInput(\n",
    "    name='Selected track:',\n",
    "    value=str('0')\n",
    ")\n",
    "wg_display_delta = pn.widgets.Checkbox(\n",
    "    name='Display volume variation',\n",
    "    value=False\n",
    ")\n",
    "plot_timeseries = pn.pane.Plotly()\n",
    "plot_contours = pn.pane.Plotly()\n",
    "plot_distribution = pn.pane.Plotly()"
   ]
  },
  {
   "cell_type": "code",
   "execution_count": null,
   "metadata": {},
   "outputs": [],
   "source": [
    "@pn.depends(wg_ntracks.param.value, wg_frames_interval.param.value, watch=True)\n",
    "def get_timeseries(ntracks, frames_interval):\n",
    "    ''' Displays volume of each cell in time as different traces.\n",
    "    Hover over this plot to select a particular track. Everytime a\n",
    "    new track is selected the cell volume distribution below is\n",
    "    also updated and so does the contours of cell shape\n",
    "    on the right side.\n",
    "    '''\n",
    "    fig = go.Figure()\n",
    "    for i, track_info in enumerate(data):\n",
    "        fig.add_trace(\n",
    "            go.Scatter(\n",
    "                x=track_info['frame'], y=track_info['volume'], mode='lines', name=f'track-{i}'\n",
    "            )\n",
    "        )\n",
    "        if i >= ntracks-1:\n",
    "            break\n",
    "    fig.add_vrect(\n",
    "        x0=frames_interval[0], x1=frames_interval[1],\n",
    "        fillcolor=\"LightSalmon\", opacity=0.5,\n",
    "        layer=\"below\", line_width=0,\n",
    "    ),\n",
    "    fig.update_xaxes(range=[0,limits['Fmax']], title={'text': 'Frame ID', 'font': {'size': 18}})\n",
    "    fig.update_yaxes(title={'text': 'Cell Volume (#pixels)', 'font': {'size': 18}})\n",
    "    fig.update_layout(showlegend=False, margin=go.layout.Margin(l=0,r=0,b=0,t=0))\n",
    "    plot_timeseries.object = fig\n",
    "\n",
    "@pn.depends(plot_timeseries.param.hover_data, watch=True)\n",
    "def update_selected_track(hover_data):\n",
    "    '''Updates the current selected track when hovering over\n",
    "    the plot.\n",
    "    '''\n",
    "    if hover_data is not None:\n",
    "        wg_curr_track.value = str(hover_data['points'][0]['curveNumber'])\n",
    "\n",
    "@pn.depends(wg_curr_track.param.value, wg_frames_interval.param.value, watch=True)\n",
    "def get_contour(track, frames_interval):\n",
    "    ''' Display 2D cell shape contours of the selected track\n",
    "    and in the range of frames selected by the interval selector.\n",
    "    '''\n",
    "    fo = int(frames_interval[0]) # Initial frame ID selected\n",
    "    ff = int(frames_interval[1]) # Final frame ID selected\n",
    "    # Available frames for current track\n",
    "    f_available = data[int(track)]['frame']\n",
    "    # Make sure frame ID in within available range\n",
    "    f_init = np.min([f_available[-1], np.max([fo, f_available[0]])])\n",
    "    f_last = np.max([f_available[0], np.min([ff, f_available[-1]])])\n",
    "    fig = go.Figure()\n",
    "    for f in range(fo,ff):\n",
    "        # Convert frame ID from string to int\n",
    "        fstr = str(f)\n",
    "        if fstr in data[int(track)]['contour']:\n",
    "            op = (f-f_init)/(f_last-f_init)\n",
    "            ct = data[int(track)]['contour']\n",
    "            fig.add_trace(\n",
    "                go.Scatter(\n",
    "                    x=ct[fstr]['x'], y=ct[fstr]['y'], mode='lines', opacity=op, line={'color': \"black\"}\n",
    "                )\n",
    "            )\n",
    "    fig.update_xaxes(range=[0,1900], title={'text': 'X-coordinate', 'font': {'size': 18}})\n",
    "    fig.update_yaxes(range=[0,1300], title={'text': 'Y-coordinate', 'font': {'size': 18}})\n",
    "    fig.update_layout(showlegend=False, margin=go.layout.Margin(l=0,r=0,b=0,t=0))\n",
    "    plot_contours.object = fig\n",
    "\n",
    "@pn.depends(wg_curr_track.param.value, wg_display_delta.param.value, watch=True)\n",
    "def get_distribution(track, display_delta):\n",
    "    '''Display distribution of cell volume for the current\n",
    "    track. Optionally user can display the distribution of the\n",
    "    increment in cell volume.\n",
    "    \n",
    "    WARNING: The checkbox is not working properly when unchecked.\n",
    "    '''\n",
    "    z = data[int(track)]['volume']\n",
    "    if display_delta:\n",
    "        z = np.diff(z)\n",
    "    fig = go.Figure()\n",
    "    fig.add_trace(\n",
    "        go.Histogram(x=z)\n",
    "    )\n",
    "    vrange = [limits['Vmin'], limits['Vmax']]\n",
    "    title = 'Cell Volume (#pixels)'\n",
    "    if display_delta:\n",
    "        vrange = [-0.5*limits['Vmin'], 0.5*limits['Vmin']] # Hacky!\n",
    "        title = 'Delta ' + title\n",
    "    fig.update_xaxes(range=vrange, title={'text': title, 'font': {'size': 18}})\n",
    "    fig.update_yaxes(title={'text': 'Frequency', 'font': {'size': 18}})\n",
    "\n",
    "    fig.update_layout(showlegend=False, margin=go.layout.Margin(l=0,r=0,b=0,t=0))\n",
    "    plot_distribution.object = fig"
   ]
  },
  {
   "cell_type": "code",
   "execution_count": null,
   "metadata": {},
   "outputs": [],
   "source": [
    "# Make the plots\n",
    "get_timeseries(wg_ntracks.value, wg_frames_interval.value)\n",
    "get_distribution(wg_curr_track.value, wg_display_delta.value)\n",
    "get_contour(wg_curr_track.value, wg_frames_interval.value)\n",
    "\n",
    "# Put everything in a grid\n",
    "gspec = pn.GridSpec(sizing_mode='stretch_both', max_height=800)\n",
    "gspec[:10, :10] = pn.Column(wg_ntracks,wg_frames_interval,plot_timeseries,wg_curr_track,wg_display_delta,plot_distribution)\n",
    "gspec[:10, 10:20] = plot_contours\n",
    "gspec.servable()"
   ]
  },
  {
   "cell_type": "code",
   "execution_count": null,
   "metadata": {},
   "outputs": [],
   "source": []
  }
 ],
 "metadata": {
  "extensions": {
   "jupyter_dashboards": {
    "activeView": "grid_default",
    "version": 1,
    "views": {
     "grid_default": {
      "cellMargin": 10,
      "defaultCellHeight": 60,
      "maxColumns": 12,
      "name": "grid",
      "type": "grid"
     }
    }
   }
  },
  "kernelspec": {
   "display_name": "Python 3",
   "language": "python",
   "name": "python3"
  },
  "language_info": {
   "codemirror_mode": {
    "name": "ipython",
    "version": 3
   },
   "file_extension": ".py",
   "mimetype": "text/x-python",
   "name": "python",
   "nbconvert_exporter": "python",
   "pygments_lexer": "ipython3",
   "version": "3.8.5"
  }
 },
 "nbformat": 4,
 "nbformat_minor": 4
}
